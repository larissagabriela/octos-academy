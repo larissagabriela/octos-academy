{
 "cells": [
  {
   "cell_type": "markdown",
   "metadata": {},
   "source": [
    "# Fluxo Óptico"
   ]
  },
  {
   "cell_type": "markdown",
   "metadata": {},
   "source": [
    "## Definição"
   ]
  },
  {
   "attachments": {
    "image.png": {
     "image/png": "[encoded data removed]"
    }
   },
   "cell_type": "markdown",
   "metadata": {},
   "source": [
    "O fluxo óptico dscreve o movimento **aparente** de um objeto em um vídeo. Já o campo de movimento se refere ao movimento real dos objetos na cena. Naturalmente, existe uma forte correlação entre ambos, porém são conceitos diferentes. Observe abaixo um caso em que há difença\n",
    "\n",
    "![image.png](attachment:image.png)"
   ]
  },
  {
   "cell_type": "markdown",
   "metadata": {},
   "source": [
    "Quando olhamos o poste giratório do barbeiro, temos a impressão de que as listras estão subindo quando na verdade o movimento real é na horizontal em torno do eixo."
   ]
  },
  {
   "cell_type": "markdown",
   "metadata": {},
   "source": [
    "## O problema da abertura"
   ]
  },
  {
   "cell_type": "markdown",
   "metadata": {},
   "source": [
    "Nós só percebemos o movimento nas direções perpendiculares ao gradiente de intensidade. O que isso quer dizer?\n",
    "\n",
    "Veja a imagem abaixo e suponha que só observemos a região dentro do círculo vermelho: é impossível dizer se houve movimento! Por outro lado, se olharmos no interior do círculo azul, notaremos que houve movimento\n",
    "\n",
    "<img src=\"perceptual-motion.jpg\" width=\"250\"/>\n",
    "\n",
    "Por isso que com uma abertura pequena não conseguimos distinguir adequadamente a existência e a direção do movimento.\n",
    "\n",
    "Voltaremos a esse problema em breve!"
   ]
  },
  {
   "cell_type": "markdown",
   "metadata": {},
   "source": [
    "## Estimando o fluxo óptico"
   ]
  },
  {
   "cell_type": "markdown",
   "metadata": {},
   "source": [
    "Dado um pixel em $(x_1,y_1)^t$ na imagem $I(t)$ no tempo $t$, como encontrar a nova posição $(x_2,y_2)^t$ desse mesmo pixel na imagem $I(t+1)$ no tempo $t+1$?\n",
    "\n",
    "Suposições:\n",
    " - **Constância de cor**: as projeções na imagem do mesmo ponto no mundo real aparentam iguais em imagens consecutivas (constância na intensidade)\n",
    " \n",
    "     $ I(x, y, t) = I(x+u, y+v, t+1)$, onde $(u,v)^t$ é o vetor deslocamento\n",
    "\n",
    "\n",
    " - **Movimentos pequenos**: pontos se deslocam pouco (aproximação de Taylor) \n",
    " \n",
    "  $ I(x+u, y+v, t+1) \\approx I(x, y, t+1) + \\frac{\\partial I}{\\partial x}u + + \\frac{\\partial I}{\\partial y}v$\n",
    "   \n",
    "\n",
    "Combinando essas duas equações obtemos:\n",
    "\\begin{align}\n",
    "     &I(x, y, t+1) + \\frac{\\partial I}{\\partial x}u + \\frac{\\partial I}{\\partial y} - I(x, y, t) \\approx 0 \\\\\n",
    "     &\\Leftrightarrow \\underbrace{\\left[ I(x, y, t+1) - I(x, y, t) \\right]}_{\\textrm{diferença nos frames}}\n",
    "         + \\underbrace{\\frac{\\partial I}{\\partial x}}_{\\textrm{derivada ao longo do eixo x}} u\n",
    "         + \\underbrace{\\frac{\\partial I}{\\partial y}}_{\\textrm{derivada ao longo do eixo y}} v \\approx 0 \\\\\n",
    "    &\\Leftrightarrow I_t + I_x u + I_y v \\approx 0 \\\\\n",
    "    &\\Leftrightarrow  I_t + (u,v) \\nabla I \\approx 0\n",
    "\\end{align}\n",
    "onde $\\nabla I = \\left( \\frac{\\partial I}{\\partial x}, \\frac{\\partial I}{\\partial y} \\right)^t$ é o vetor gradiente de intensidade.\n",
    "\n",
    "No limite em que $ \\Vert (u,v)^t \\Vert^2 \\rightarrow 0 $, a equação acima se torna exata: $(u,v)^t \\rightarrow (\\partial x, \\partial y)^t$."
   ]
  },
  {
   "cell_type": "markdown",
   "metadata": {},
   "source": [
    "### Revisitando o problema da abertura"
   ]
  },
  {
   "cell_type": "markdown",
   "metadata": {},
   "source": [
    "Lembre: o que queremos resolver?\n",
    "\n",
    "Queremos encontrar o deslocamento $(u,v)^t$, assim descobrimos de quanto foi o movimento aparente do pixel em $(x_1,y_1)^t$.\n",
    "\n",
    "No entanto, repare que precisamos descobrir 2 valores, $u$ e $v$, e temos apenas 1 equação. Esse é um sistema subdeterminado!\n",
    "\n",
    "Por isso que existe a problema da abertura, só conseguimos determinar um dos valores do vetor $(u,v)^t$, aquele normal à borda e ainda permanece um grau de liberdade que necessita de outra equação para determinarmos.\n",
    "\n",
    "<img src=\"aperture-problem.jpg\" width=\"450\"/>\n"
   ]
  },
  {
   "cell_type": "markdown",
   "metadata": {},
   "source": [
    "### Método de Lucas & Kanade"
   ]
  },
  {
   "cell_type": "markdown",
   "metadata": {},
   "source": [
    "Precisamos arranjar mais uma equação e para isso imposmos 1 restrição adicional: \n",
    "\n",
    " - **Coerência espacial**: pontos vizinhos se movem de forma similar (movimento locamente suave)\n",
    "\n",
    "Nesse momento que entra o método de Lucas & Kanade: em uma janela de tamanho $w \\times w$ ao redor do ponto $(x,y)^t$, supomos o deslocamento $(u,v)^t$ constante. Dessa forma, geramos um conjunto de $w^2$ equações com $(u,v)^t$ amarrado e agora temos um sistema sobredeterminado! Podemos resolver para $(u,v)^t$ minimizando o erro de estimação!\n",
    "\n",
    "Escrevendo o sistema de $w^2$ equações em forma matricial:\n",
    "\\begin{align}\n",
    "    \\underbrace{\n",
    "        \\begin{pmatrix}\n",
    "            I_x(p_1) & I_y(p_1) \\\\\n",
    "            I_x(p_2) & I_y(p_2) \\\\\n",
    "            \\vdots   & \\vdots   \\\\\n",
    "            I_x(p_{w^2}) & I_y(p_{w^2})\n",
    "          \\end{pmatrix}\n",
    "      }_A\n",
    "      \\underbrace{\n",
    "          \\begin{pmatrix}\n",
    "          u \\\\\n",
    "          v\n",
    "          \\end{pmatrix}\n",
    "      }_d\n",
    "      +\n",
    "      \\underbrace{\n",
    "          \\begin{pmatrix}\n",
    "          I_t(p_1) \\\\\n",
    "          I_t(p_2) \\\\\n",
    "          \\vdots   \\\\\n",
    "          I_t(p_{w^2})\n",
    "          \\end{pmatrix}\n",
    "      }_b\n",
    "      = 0\n",
    "\\end{align}\n",
    "\n",
    "O nosso problema de otimização é então: $ \\min_d \\Vert Ad + b \\Vert^2 $.\n",
    "\n",
    "Lembrem de algebra linear, a solução para o problema $Ax = b$ é a pseudo-inversa $(A^t A)^{-1} A b$. Por quê?\n",
    "\n",
    "Queremos minimizar:\n",
    "\\begin{align}\n",
    "    &\\min_x \\Vert Ax - b \\Vert^2 \\\\\n",
    "    &\\Leftrightarrow \\min_x  \\left( Ax - b \\right)^t \\left( Ax - b \\right) \\\\\n",
    "    &\\Leftrightarrow \\min_x  x^t A^t A x - 2b^t A x + b^t b\n",
    "\\end{align}\n",
    "\n",
    "Derivamos em relação a $x$ e igualamos a 0:\n",
    "\\begin{align}\n",
    "    & \\frac{d}{dx} \\left( x^t A^t A x -2b^t A x + b^t b \\right) = 0 \\\\\n",
    "    &\\Rightarrow 2 A^t A x - 2b^t A = 0 \\\\\n",
    "    &\\Leftrightarrow A^t A x = A^t b \\qquad \\textrm{(equações normais)} \\\\\n",
    "    &\\Leftrightarrow x = (A^t A)^{-1} A b\n",
    "\\end{align}\n"
   ]
  },
  {
   "cell_type": "markdown",
   "metadata": {},
   "source": [
    "Quem é $A^t A$?\n",
    "\n",
    "\\begin{align}\n",
    "        \\begin{pmatrix}\n",
    "            I_x(p_1) & \\cdots & I_x(p_{w^2}) \\\\\n",
    "            I_y(p_1) & \\cdots & I_y(p_{w^2}) \\\\\n",
    "          \\end{pmatrix}\n",
    "                  \\begin{pmatrix}\n",
    "            I_x(p_1) & I_y(p_1) \\\\\n",
    "            I_x(p_2) & I_y(p_2) \\\\\n",
    "            \\vdots   & \\vdots   \\\\\n",
    "            I_x(p_{w^2}) & I_y(p_{w^2})\n",
    "          \\end{pmatrix} \n",
    "          =\n",
    "          \\begin{pmatrix}\n",
    "            \\sum I_x I_x & \\sum I_x I_y \\\\\n",
    "            \\sum I_x I_y & \\sum I_y I_y \\\\\n",
    "          \\end{pmatrix}\n",
    "\\end{align}"
   ]
  },
  {
   "cell_type": "markdown",
   "metadata": {},
   "source": [
    "Inversão de matrizes sempre é um processo delicado e problemático.\n",
    "Intuitivamente, quais são os pixels para os quais melhor conseguimos enxergar o movimento?\n",
    "\n",
    "Veja novamente a imagem:\n",
    "<img src=\"perceptual-motion-corner.jpg\" width=\"250\"/>\n",
    "\n",
    "A quina (circulada em amaralo) é aonde conseguimos enxergar o movimento nas duas direções. Isso nos lembra do detector de Harris! Queremos pontos bem distintos para poder resolver bem essa equação.\n",
    "\n",
    "Um olhar mais análitico nos permite enxergar essa semelhança mais intimamente a partir dos autovalores da matriz $A^t A$: \n",
    "\n",
    " - Os autovalores $\\lambda_1$ e $\\lambda_2$ não podem ser muito pequenos (se qualquer um deles for zero a matriz $A^t A$ não invertível, lembra?) -- situação de região plana\n",
    " \n",
    " - A razão $\\lambda_1/\\lambda_1$ não deve ser muito pequena senão será mal-condicionada -- situação de região de borda\n",
    "\n",
    " \n",
    " <img src=\"http://media5.datahacker.rs/2019/07/132-1024x730.png\" width=\"650\"/>\n"
   ]
  }
 ],
 "metadata": {
  "kernelspec": {
   "display_name": "Python 3",
   "language": "python",
   "name": "python3"
  },
  "language_info": {
   "codemirror_mode": {
    "name": "ipython",
    "version": 3
   },
   "file_extension": ".py",
   "mimetype": "text/x-python",
   "name": "python",
   "nbconvert_exporter": "python",
   "pygments_lexer": "ipython3",
   "version": "3.6.10"
  }
 },
 "nbformat": 4,
 "nbformat_minor": 4
}
