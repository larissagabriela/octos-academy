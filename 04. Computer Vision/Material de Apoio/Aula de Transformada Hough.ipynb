{
 "cells": [
  {
   "cell_type": "markdown",
   "metadata": {},
   "source": [
    "# Transformada de Hough para retas"
   ]
  },
  {
   "cell_type": "markdown",
   "metadata": {},
   "source": [
    "## Parametrização de retas"
   ]
  },
  {
   "cell_type": "markdown",
   "metadata": {},
   "source": [
    "Nós lembramos que a equação da reta é $ y = ax + b$ e para encontrarmos o ponto $(y,x)$ em que um conjunto de retas se cruza, resolvemos um sistem linear de equações em que o ponto $(y,x)$ é a solução."
   ]
  },
  {
   "cell_type": "markdown",
   "metadata": {},
   "source": [
    "<img src=\"https://upload.wikimedia.org/wikipedia/commons/e/e6/R_theta_line.GIF\">"
   ]
  },
  {
   "cell_type": "markdown",
   "metadata": {},
   "source": [
    "Alternativamente, como observado pelo desenho, podemos representar uma reta por $(r, \\theta)$ onde $r$ é distância perpendicular da reta à origem e $\\theta$ é o ângulo do raio.\n",
    "\n",
    "A relação entre ambas parametrizações se dá da seguinte forma: $r = x \\cos \\theta + y \\sin \\theta$."
   ]
  },
  {
   "cell_type": "markdown",
   "metadata": {},
   "source": [
    "## Recuperando linhas a partir de pontos"
   ]
  },
  {
   "cell_type": "markdown",
   "metadata": {},
   "source": [
    "No problema de deteçcão de linhas temos centenas de pontos e queremos deterninar se eles formam linhas e aonde elas estão.\n",
    "\n",
    "Podemos formular o problema da seguinte forma: Cada ponto contribui para um conjunto de linhas e ao levarmos em conta todos os pontos, serão linhhas aqueles conjuntos para os quais houver muitos pontos contribuindo."
   ]
  },
  {
   "cell_type": "markdown",
   "metadata": {},
   "source": [
    "<img src=\"hough-line.png\" width=\"350\"/>"
   ]
  },
  {
   "cell_type": "markdown",
   "metadata": {},
   "source": [
    "Note que para cada um desses ponto $(x_1, y_1)$ e $(x_2, y_2)$ há uma infinidade de retas plausíveis, mas somente uma única reta que cruza ambos pontos.\n",
    "\n",
    "Como podemos ver na figura, no espaço paramétrico $(r, \\theta)$ esse conjunto de retas plausíveis para cada ponto forma uma curva. O ponto onde essas curvas se cruzam representa o ponto $(r, \\theta)$ que determina a reta liga os pontos $(x_1, y_1)$ e $(x_2, y_2)$,"
   ]
  },
  {
   "cell_type": "markdown",
   "metadata": {},
   "source": [
    "<img src=\"https://miro.medium.com/max/700/1*Cr73Mte5NNgO16D4moKDQg.png\" size=100,100>"
   ]
  },
  {
   "cell_type": "markdown",
   "metadata": {},
   "source": [
    " Logo, podemos resolver esse problema"
   ]
  }
 ],
 "metadata": {
  "kernelspec": {
   "display_name": "Python 3",
   "language": "python",
   "name": "python3"
  },
  "language_info": {
   "codemirror_mode": {
    "name": "ipython",
    "version": 3
   },
   "file_extension": ".py",
   "mimetype": "text/x-python",
   "name": "python",
   "nbconvert_exporter": "python",
   "pygments_lexer": "ipython3",
   "version": "3.6.10"
  }
 },
 "nbformat": 4,
 "nbformat_minor": 4
}
