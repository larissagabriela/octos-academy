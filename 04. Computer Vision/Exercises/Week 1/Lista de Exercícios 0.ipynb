{
 "cells": [
  {
   "cell_type": "markdown",
   "metadata": {},
   "source": [
    "# Imagens Como Funções"
   ]
  },
  {
   "cell_type": "markdown",
   "metadata": {},
   "source": [
    "## Descrição\n",
    "\n",
    "Este conjunto de problemas serve apenas para garantir que você consegue carregar uma imagem, manipular os valores, produzir alguma saída."
   ]
  },
  {
   "cell_type": "markdown",
   "metadata": {},
   "source": [
    "## Questões"
   ]
  },
  {
   "cell_type": "code",
   "execution_count": 2,
   "metadata": {},
   "outputs": [],
   "source": [
    "import cv2\n",
    "import numpy as np\n",
    "from os import path\n",
    "import matplotlib.pyplot as plt\n",
    "import numpy as np\n",
    "from scipy.ndimage import gaussian_filter\n",
    "import scipy"
   ]
  },
  {
   "cell_type": "markdown",
   "metadata": {},
   "source": [
    "### 1. Imagens de Entrada"
   ]
  },
  {
   "cell_type": "markdown",
   "metadata": {},
   "source": [
    "**A -** Encontre duas imagens interessantes para usar e as armazene como `ps0-1-a-1.png` e `ps0-1-a-2.png` dentro da pasta de saída.\n",
    "\n",
    "As imagens devem ser coloridas, de forma retangular (NÃO quadrados). Escolha um que seja larga e outro alta.\n",
    "\n",
    "Você pode encontrar alguns exemplos clássicos de visão [aqui](https://www.google.com/url?q=http://sipi.usc.edu/database/database.php?volume%3Dmisc&sa=D&ust=1606753605607000&usg=AOvVaw1_vozuqLein53FfyTW9Azo). Ou pegue o seu próprio. Certifique-se de que a largura ou altura da imagem não exceda 512 pixels."
   ]
  },
  {
   "cell_type": "code",
   "execution_count": 3,
   "metadata": {
    "scrolled": true
   },
   "outputs": [],
   "source": [
    "## INSIRA AQUI O CÓDIGO\n",
    "img = cv2.imread(\"/home/larissa-octos/Pictures/ps0-1-a-1.jpg\")"
   ]
  },
  {
   "cell_type": "code",
   "execution_count": 4,
   "metadata": {},
   "outputs": [],
   "source": [
    "img_ = cv2.imread(\"/home/larissa-octos/Pictures/ps0-1-a-2.jpg\")"
   ]
  },
  {
   "cell_type": "code",
   "execution_count": 5,
   "metadata": {},
   "outputs": [],
   "source": [
    "#cv2.imshow('janela', img)\n",
    "#cv2.waitKey()"
   ]
  },
  {
   "cell_type": "markdown",
   "metadata": {},
   "source": [
    "### 2. Planos de Cor"
   ]
  },
  {
   "cell_type": "markdown",
   "metadata": {},
   "source": [
    "**A -** Troque os pixels vermelhos e azuis da imagem 1 e armazene como `ps0-2-a-1.png` na pasta de saída"
   ]
  },
  {
   "cell_type": "code",
   "execution_count": 6,
   "metadata": {
    "scrolled": false
   },
   "outputs": [],
   "source": [
    "for line in range(img.shape[0]-1):\n",
    "    for col in range(1,img.shape[1]-1):\n",
    "        (blue,green,red) = img[line, col]\n",
    "        modified_img = img\n",
    "        modified_img[line,col] = (red, green, blue)"
   ]
  },
  {
   "cell_type": "code",
   "execution_count": 7,
   "metadata": {},
   "outputs": [],
   "source": [
    "#cv2.imshow('modified', modified_img)\n",
    "#cv2.waitKey(0)\n",
    "#cv2.destroyWindow('modified')"
   ]
  },
  {
   "cell_type": "code",
   "execution_count": 8,
   "metadata": {},
   "outputs": [
    {
     "data": {
      "text/plain": [
       "True"
      ]
     },
     "execution_count": 8,
     "metadata": {},
     "output_type": "execute_result"
    }
   ],
   "source": [
    "cv2.imwrite('ps0-2-a-1.png', modified_img)"
   ]
  },
  {
   "cell_type": "markdown",
   "metadata": {},
   "source": [
    "**B -** Crie uma imagem monocromática (`img1_green`) selecionando o canal verde da imagem 1 e armazene como `ps0-2-b-1.png` na pasta de saída"
   ]
  },
  {
   "cell_type": "code",
   "execution_count": 9,
   "metadata": {},
   "outputs": [
    {
     "data": {
      "text/plain": [
       "True"
      ]
     },
     "execution_count": 9,
     "metadata": {},
     "output_type": "execute_result"
    }
   ],
   "source": [
    "img1_green = (img[:,:,1])\n",
    "#cv2.imshow('janela', img1_green)\n",
    "#cv2.waitKey()\n",
    "cv2.imwrite('ps0-2-b-1.png',img1_green)"
   ]
  },
  {
   "cell_type": "markdown",
   "metadata": {},
   "source": [
    "**C -** Crie uma imagem monocromática (`img1_red`) selecionando o canal vermelho da imagem 1 e armazene como `ps0-2-c-1.png` na pasta de saída"
   ]
  },
  {
   "cell_type": "code",
   "execution_count": 10,
   "metadata": {},
   "outputs": [
    {
     "data": {
      "text/plain": [
       "True"
      ]
     },
     "execution_count": 10,
     "metadata": {},
     "output_type": "execute_result"
    }
   ],
   "source": [
    "img1_red = (img[:,:,0])\n",
    "#cv2.imshow('janela', img1_green)\n",
    "#cv2.waitKey()\n",
    "cv2.imwrite('ps0-2-c-1.png',img1_red)"
   ]
  },
  {
   "cell_type": "markdown",
   "metadata": {},
   "source": [
    "**D -** Qual se parece mais com o que você esperaria de uma imagem monocromática? Você esperaria que um algoritmo de visão por computador funcionasse melhor em um do que no outro?"
   ]
  },
  {
   "cell_type": "markdown",
   "metadata": {},
   "source": [
    "A imagem da letra c me dá uma sensação maior de ser uma versão monocromática da imagem por conta da iluminação original imagem colorida. Sim, cada pixel tem intensidades diferentes de cada cor."
   ]
  },
  {
   "cell_type": "markdown",
   "metadata": {},
   "source": [
    "### 3. Substituição de Pixels"
   ]
  },
  {
   "cell_type": "markdown",
   "metadata": {},
   "source": [
    "**Observação**: Use o melhor canal de 2-b / 2-c como versões monocromáticas.\n",
    "\n",
    "**A -** Pegue a região quadrada central interna de 100x100 pixels da versão monocromática da imagem 1 e insira-os no centro da versão monocromática da imagem 2. Armazene a nova imagem criada como ps0-3-a-1.png"
   ]
  },
  {
   "cell_type": "code",
   "execution_count": 11,
   "metadata": {},
   "outputs": [],
   "source": [
    "cropped_img = img1_green[150:250, 78:178]\n",
    "#cv2.imshow('janela', cropped_img)\n",
    "#cv2.waitKey()"
   ]
  },
  {
   "cell_type": "code",
   "execution_count": 12,
   "metadata": {},
   "outputs": [],
   "source": [
    "img1_green_ = (img_[:,:,1])\n",
    "cropped_img1 = img1_green_[78:178,150:250]\n",
    "#cv2.imshow('modified', cropped_img1)\n",
    "#cv2.waitKey(0)\n",
    "#cv2.destroyWindow('modified')"
   ]
  },
  {
   "cell_type": "code",
   "execution_count": 13,
   "metadata": {},
   "outputs": [],
   "source": [
    "def output(cropped, cropped_, alpha):     #alpha determina a intensidade\n",
    "    output = alpha*cropped+(1-alpha)*cropped_\n",
    "    return output"
   ]
  },
  {
   "cell_type": "code",
   "execution_count": 14,
   "metadata": {},
   "outputs": [],
   "source": [
    "mesc = output(cropped_img, cropped_img1, alpha = 0.5)"
   ]
  },
  {
   "cell_type": "code",
   "execution_count": 15,
   "metadata": {},
   "outputs": [],
   "source": [
    "#cv2.imshow('modified', mesc)\n",
    "#cv2.waitKey()\n",
    "#cv2.destroyWindow('modified')"
   ]
  },
  {
   "cell_type": "code",
   "execution_count": 16,
   "metadata": {
    "scrolled": true
   },
   "outputs": [
    {
     "data": {
      "text/plain": [
       "True"
      ]
     },
     "execution_count": 16,
     "metadata": {},
     "output_type": "execute_result"
    }
   ],
   "source": [
    "cv2.imwrite('ps0-3-a-1.png',mesc)"
   ]
  },
  {
   "cell_type": "markdown",
   "metadata": {},
   "source": [
    "### 4. Operações Aritiméticas e Geométricas"
   ]
  },
  {
   "cell_type": "markdown",
   "metadata": {},
   "source": [
    "**A -** Qual é o mínimo e o máximo dos valores de pixel de `img1_green`? Qual o significado? Qual é o desvio padrão? E como você calculou isso?"
   ]
  },
  {
   "cell_type": "code",
   "execution_count": 17,
   "metadata": {},
   "outputs": [
    {
     "data": {
      "text/plain": [
       "0"
      ]
     },
     "execution_count": 17,
     "metadata": {},
     "output_type": "execute_result"
    }
   ],
   "source": [
    "img1_green.min()  #Esse é o local em que temos a menor itensidade, ou seja, a cor mais escura da imagem"
   ]
  },
  {
   "cell_type": "code",
   "execution_count": 18,
   "metadata": {},
   "outputs": [
    {
     "data": {
      "text/plain": [
       "255"
      ]
     },
     "execution_count": 18,
     "metadata": {},
     "output_type": "execute_result"
    }
   ],
   "source": [
    "img1_green.max()  #Esse é o local em que temos a menor itensidade, ou seja, a cor mais escura da imagem"
   ]
  },
  {
   "cell_type": "code",
   "execution_count": 19,
   "metadata": {},
   "outputs": [
    {
     "data": {
      "text/plain": [
       "44.880439265744066"
      ]
     },
     "execution_count": 19,
     "metadata": {},
     "output_type": "execute_result"
    }
   ],
   "source": [
    "#O desvio padrão informa sobre a maior ou menor homogeneidade, ou heterogeneidade, de uma imagem digital\n",
    "img1_green.std()"
   ]
  },
  {
   "cell_type": "markdown",
   "metadata": {},
   "source": [
    "*RESPONDA AQUI*"
   ]
  },
  {
   "cell_type": "markdown",
   "metadata": {},
   "source": [
    "**B -** Subtraia a média de todos os pixels, divida pelo desvio padrão e multiplique por 10 (se sua imagem for de 0 a 255) ou por 0,05 (se sua imagem variar de 0,0 a 1,0). Agora adicione a média de volta. Armazene o resultado como `ps0-4-b-1.png`."
   ]
  },
  {
   "cell_type": "code",
   "execution_count": 20,
   "metadata": {
    "scrolled": true
   },
   "outputs": [],
   "source": [
    "b = img1_green - (img1_green.mean()/img1_green.std()*10)"
   ]
  },
  {
   "cell_type": "code",
   "execution_count": 21,
   "metadata": {},
   "outputs": [],
   "source": [
    "b_ = b + img1_green.mean()"
   ]
  },
  {
   "cell_type": "code",
   "execution_count": 22,
   "metadata": {},
   "outputs": [
    {
     "data": {
      "text/plain": [
       "True"
      ]
     },
     "execution_count": 22,
     "metadata": {},
     "output_type": "execute_result"
    }
   ],
   "source": [
    "cv2.imwrite('ps0-4-b-1.png',b_)"
   ]
  },
  {
   "cell_type": "markdown",
   "metadata": {},
   "source": [
    "**C -** Desloque `img1_green` para a esquerda em 2 pixels e `ps0-4-c-1.png`."
   ]
  },
  {
   "cell_type": "code",
   "execution_count": 23,
   "metadata": {},
   "outputs": [
    {
     "data": {
      "text/plain": [
       "True"
      ]
     },
     "execution_count": 23,
     "metadata": {},
     "output_type": "execute_result"
    }
   ],
   "source": [
    "height, width = img1_green.shape[:2]\n",
    "desloc = np.float32([[1,0,-2],[0,1,0]])\n",
    "desloc_img = cv2.warpAffine(img1_green, desloc, (width, height))\n",
    "\n",
    "cv2.imwrite('ps0-4-c-1.png', desloc_img)\n"
   ]
  },
  {
   "cell_type": "markdown",
   "metadata": {},
   "source": [
    "**D -** Subtraia a versão deslocada de `img1_green` do original e salve a imagem de diferença (certifique-se de que os valores são legais ao escrever a imagem para que você possa ver todas as diferenças relativas)."
   ]
  },
  {
   "cell_type": "code",
   "execution_count": 26,
   "metadata": {},
   "outputs": [
    {
     "data": {
      "text/plain": [
       "True"
      ]
     },
     "execution_count": 26,
     "metadata": {},
     "output_type": "execute_result"
    }
   ],
   "source": [
    "sub = img1_green - desloc_img\n",
    "cv2.imwrite('ps0-4-d-1.png', sub)"
   ]
  },
  {
   "cell_type": "markdown",
   "metadata": {},
   "source": [
    "**E -** O que os valores de pixel negativos significam de qualquer maneira?"
   ]
  },
  {
   "cell_type": "markdown",
   "metadata": {},
   "source": [
    "*RESPONDA AQUI*"
   ]
  },
  {
   "cell_type": "markdown",
   "metadata": {},
   "source": [
    "### 5. Ruído"
   ]
  },
  {
   "cell_type": "markdown",
   "metadata": {},
   "source": [
    "**A -** Pegue a imagem colorida original (`imagem 1`) e comece a adicionar ruído gaussiano aos pixels no canal verde. Aumente o sigma até que o ruído seja um pouco visível. Armazene a imagem como `ps0-5-a-1.png`. Qual é o valor de sigma que você teve que usar?"
   ]
  },
  {
   "cell_type": "code",
   "execution_count": 47,
   "metadata": {},
   "outputs": [],
   "source": [
    "#O sigma define o desfoque. Quanto maior o sigma, maior o desfoque.\n",
    "#No caso usei o sigma = 1 para um desfoque menor\n",
    "result_green = gaussian_filter(img[:,:,1], sigma=1)"
   ]
  },
  {
   "cell_type": "code",
   "execution_count": 48,
   "metadata": {
    "scrolled": true
   },
   "outputs": [
    {
     "data": {
      "text/plain": [
       "True"
      ]
     },
     "execution_count": 48,
     "metadata": {},
     "output_type": "execute_result"
    }
   ],
   "source": [
    "cv2.imwrite('ps0-5-a-1.png',result_green)"
   ]
  },
  {
   "cell_type": "markdown",
   "metadata": {},
   "source": [
    "**B -** Agora, em vez disso, adicione essa quantidade de ruído ao canal azul e armazene como `ps0-5-b-1.png`."
   ]
  },
  {
   "cell_type": "code",
   "execution_count": 51,
   "metadata": {
    "scrolled": true
   },
   "outputs": [],
   "source": [
    "result_blue = gaussian_filter(img[:,:,2], sigma=1)"
   ]
  },
  {
   "cell_type": "code",
   "execution_count": 52,
   "metadata": {},
   "outputs": [
    {
     "data": {
      "text/plain": [
       "True"
      ]
     },
     "execution_count": 52,
     "metadata": {},
     "output_type": "execute_result"
    }
   ],
   "source": [
    "cv2.imwrite('ps0-5-b-1.png',result_blue)"
   ]
  },
  {
   "cell_type": "markdown",
   "metadata": {},
   "source": [
    "**C -** Qual parece melhor? Por quê?"
   ]
  },
  {
   "cell_type": "markdown",
   "metadata": {},
   "source": [
    "A imagem 5-a conserva mais as características de iluminação da imagem. Lugares com uma intensidade maior permanecem com essa intendidade e vice versa."
   ]
  }
 ],
 "metadata": {
  "kernelspec": {
   "display_name": "Python 3",
   "language": "python",
   "name": "python3"
  },
  "language_info": {
   "codemirror_mode": {
    "name": "ipython",
    "version": 3
   },
   "file_extension": ".py",
   "mimetype": "text/x-python",
   "name": "python",
   "nbconvert_exporter": "python",
   "pygments_lexer": "ipython3",
   "version": "3.8.3"
  }
 },
 "nbformat": 4,
 "nbformat_minor": 4
}
