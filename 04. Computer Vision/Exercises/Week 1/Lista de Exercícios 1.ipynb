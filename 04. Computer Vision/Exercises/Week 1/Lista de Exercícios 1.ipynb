{
 "cells": [
  {
   "cell_type": "markdown",
   "metadata": {},
   "source": [
    "# Bordas e Linhas"
   ]
  },
  {
   "cell_type": "markdown",
   "metadata": {},
   "source": [
    "## Descrição\n",
    "\n",
    "Este conjunto de problemas é o seu primeiro projeto de “visão” onde você calcula uma “resposta” - que é alguma descrição estrutural ou semântica do que está em uma imagem. Você encontrará bordas e objetos. Você aprenderá que alguns métodos funcionam bem para situações cuidadosamente controladas e quase não funcionam quando você relaxa essas restrições.\n",
    "\n",
    "**REGRAS**: Você pode usar funções prontas de processamento de imagem para encontrar bordas, como Canny ou outros operadores. Não se esqueça de que eles têm uma variedade de parâmetros e você pode precisar experimentá-los. No entanto,  VOCÊ NÃO PODE USAR NENHUMA FERRAMENTA DE HOUGH. Por exemplo, você precisa escrever suas próprias estruturas de dados de matriz de acumulador e código para votação e localização de pico."
   ]
  },
  {
   "cell_type": "markdown",
   "metadata": {},
   "source": [
    "## Questões"
   ]
  },
  {
   "cell_type": "markdown",
   "metadata": {},
   "source": [
    "### 1. Linhas em um Xadrez\n",
    "\n",
    "Esta é uma imagem de teste para a qual a resposta deve ser clara, onde os limites do “objeto” são apenas linhas.\n",
    "\n",
    "<img src=\"images/ps1-input0.png\" width=\"250\"/>\n"
   ]
  },
  {
   "cell_type": "markdown",
   "metadata": {},
   "source": [
    "**A -** Carregue a imagem `images/ps1-input0.png` em escalas de cinza e gere uma imagem de borda - uma imagem binária com pixels brancos (1) nas bordas e pixels pretos (0) em outros lugares."
   ]
  },
  {
   "cell_type": "code",
   "execution_count": 3,
   "metadata": {},
   "outputs": [],
   "source": [
    "import cv2\n",
    "img = cv2.imread(\"images/ps1-input0.png\")\n",
    "img = cv2.cvtColor(img, cv2.COLOR_RGB2GRAY)"
   ]
  },
  {
   "cell_type": "code",
   "execution_count": 8,
   "metadata": {
    "scrolled": true
   },
   "outputs": [
    {
     "data": {
      "image/png": "[encoded data removed]",
      "text/plain": [
       "<Figure size 432x288 with 2 Axes>"
      ]
     },
     "metadata": {},
     "output_type": "display_data"
    }
   ],
   "source": [
    "import numpy as np\n",
    "from matplotlib import pyplot as plt\n",
    "edges = cv2.Canny(img,100,200)\n",
    "plt.subplot(121),plt.imshow(img,cmap = 'gray')\n",
    "plt.title('Original Image'), plt.xticks([]), plt.yticks([])\n",
    "plt.subplot(122),plt.imshow(edges,cmap = 'gray')\n",
    "plt.title('Edge Image'), plt.xticks([]), plt.yticks([])\n",
    "plt.show()"
   ]
  },
  {
   "cell_type": "markdown",
   "metadata": {},
   "source": [
    "### 2. Detecção de Linhas"
   ]
  },
  {
   "attachments": {
    "image.png": {
     "image/png": "[encoded data removed]"
    }
   },
   "cell_type": "markdown",
   "metadata": {},
   "source": [
    "Implemente um método de transformação de Hough para localizar linhas. Observe que o sistema de coordenadas usado tem sua origem no canto superior esquerdo da imagem e com o eixo $y$ apontando para baixo. Assim, o pixel correspondente às coordenadas $(x, y)$ deve votar em parâmetros de linha $(\\rho, \\theta)$ onde  $\\rho = x \\cos(\\theta) + y \\sin(\\theta)$ e $\\theta = \\arctan{x/y}$.\n",
    "\n",
    "![image.png](attachment:image.png)\n",
    "\n",
    "Isso tem o efeito de tornar a direção angular positiva no sentido horário em vez de no sentido anti-horário na convenção usual."
   ]
  },
  {
   "cell_type": "markdown",
   "metadata": {},
   "source": [
    "**A -** Escreva uma função `hough_lines_acc()` que calcula a transformação de Hough para linhas e produz um acumulador H, que representa o espaço paramétrico $(\\rho, \\theta)$ discretizado com a resolução radial e angular desejada.\n",
    " <img src=\"https://www.learnopencv.com/wp-content/uploads/2019/03/hough-transform-accumulator-1024x1024.png\" width=\"300\"/>\n",
    "\n",
    "Qualquer compartimento (*bin*) nessa matriz 2D corresponde a uma linha e damos o nome acumulador porque usaremos os compartimentos desse array para coletar evidências sobre quais linhas existem na imagem. \n",
    "\n",
    "A função deve receber dois parâmetros além da imagem binária de bordas:\n",
    " 1. `rho` - resolução radial $\\rho$ do acumulador em pixels;\n",
    " 2. `theta` - resolução angular $\\theta$ do acumulador em radianos;\n",
    "\n",
    "A função deve retornar três objetos:\n",
    " 1. O *grid* acumulador de hough H em que cada posição representa o número de votos da linha com parâmetros $(\\rho, \\theta)$;\n",
    " 2. Os vetor de valores $\\theta$ que correspondem às colunas do *grid* H;\n",
    " 3. Os vetor de valores $\\rho$ que correspondem às linhas do *grid* H."
   ]
  },
  {
   "cell_type": "code",
   "execution_count": null,
   "metadata": {},
   "outputs": [],
   "source": [
    "## INSIRA AQUI O CÓDIGO"
   ]
  },
  {
   "cell_type": "markdown",
   "metadata": {},
   "source": [
    "**B -** Aplique a função `hough_lines_acc()` na imagem da Parte I e exiba o acumulador de hough H."
   ]
  },
  {
   "cell_type": "code",
   "execution_count": null,
   "metadata": {},
   "outputs": [],
   "source": [
    "## INSIRA AQUI O CÓDIGO"
   ]
  },
  {
   "cell_type": "markdown",
   "metadata": {},
   "source": [
    "**C -** Escreva uma função `hough_peaks()` que encontre os índices do *grid* acumulador (aqui, parâmetros de linha) que correspondem aos máximos locais e tenham um número mínimo de votos especificado. Observe que você precisa retornar uma matriz com formato `(número_de_linhas_encontradas, 2)` em que os $\\rho$s estão na coluna 0 os $\\theta$s na coluna 1. "
   ]
  },
  {
   "cell_type": "code",
   "execution_count": null,
   "metadata": {},
   "outputs": [],
   "source": [
    "## INSIRA AQUI O CÓDIGO"
   ]
  },
  {
   "cell_type": "markdown",
   "metadata": {},
   "source": [
    "**D -** Escreva uma função `hough_lines_draw()` para desenhar linhas coloridas que correspondam aos picos encontrados na matriz do acumulador. Isso significa que você precisa pesquisar os valores $\\rho$, $\\theta$ usando os índices de pico e, em seguida, convertê-los (de volta) para parâmetros de linha em coordenadas cartesianas."
   ]
  },
  {
   "cell_type": "code",
   "execution_count": null,
   "metadata": {},
   "outputs": [],
   "source": [
    "## INSIRA AQUI O CÓDIGO"
   ]
  },
  {
   "cell_type": "markdown",
   "metadata": {},
   "source": [
    "**E -** Que parâmetros você usou para encontrar linhas nesta imagem?"
   ]
  },
  {
   "cell_type": "markdown",
   "metadata": {},
   "source": [
    "`## ESCREVA AQUI A RESPOSTA"
   ]
  },
  {
   "cell_type": "markdown",
   "metadata": {},
   "source": [
    "### 3 - Detecção de linhas em imagem com ruído\n",
    "\n",
    "Use agora a imagem `ps1-input0-noise.png` - a mesma imagem de antes, mas agora com ruído.\n",
    "\n",
    "<img src=\"images/ps1-input0-noise.png\" width=\"300\"/>"
   ]
  },
  {
   "cell_type": "markdown",
   "metadata": {},
   "source": [
    "**A -** Calcule uma versão moderadamente suavizada desta imagem usando um filtro Gaussiano e use $\\sigma$ do filtro com pelo menos alguns pixels de tamanho."
   ]
  },
  {
   "cell_type": "code",
   "execution_count": null,
   "metadata": {},
   "outputs": [],
   "source": [
    "## INSIRA AQUI O CÓDIGO\n",
    "## EXIBA A IMAGEM SUAVIZADA"
   ]
  },
  {
   "cell_type": "markdown",
   "metadata": {},
   "source": [
    "**B -** Usando um operador de borda de sua escolha, crie uma imagem de borda binária para a imagem original (`ps1-input0-noise.png`) e a versão suavizada acima."
   ]
  },
  {
   "cell_type": "code",
   "execution_count": 111,
   "metadata": {},
   "outputs": [],
   "source": [
    "## INSIRA AQUI O CÓDIGO\n",
    "## EXIBA AS IMAGENS DE BORDA"
   ]
  },
  {
   "cell_type": "markdown",
   "metadata": {},
   "source": [
    "**C -** Agora aplique seu método de Hough à versão suavizada da imagem da borda. Seu objetivo é ajustar os algoritmos de filtragem, localização de bordas e Hough para encontrar as linhas da melhor maneira possível neste caso de teste."
   ]
  },
  {
   "cell_type": "code",
   "execution_count": null,
   "metadata": {},
   "outputs": [],
   "source": [
    "## INSIRA AQUI O CÓDIGO\n",
    "## EXIBA COMO IMAGEM O ACUMULADOR DE HOUGH\n",
    "## EXIBA A IMAGEM RUIDOSA ORIGINAL COM AS LINHAS DESENHADAS"
   ]
  },
  {
   "cell_type": "markdown",
   "metadata": {},
   "source": [
    "O que você precisou fazer para obter seus melhores resultados?"
   ]
  },
  {
   "cell_type": "markdown",
   "metadata": {},
   "source": [
    "### 4 - Detecção de linhas em imagem real"
   ]
  },
  {
   "cell_type": "markdown",
   "metadata": {},
   "source": [
    "A imagem `ps1-input1.png` contém objetos cujos limites são círculos (moedas) ou linhas (canetas).\n",
    "\n",
    "<img src=\"images/ps1-input1.png\" width=\"300\"/>"
   ]
  },
  {
   "cell_type": "code",
   "execution_count": null,
   "metadata": {},
   "outputs": [],
   "source": [
    " Para esta pergunta, você ainda encontra linhas."
   ]
  },
  {
   "cell_type": "markdown",
   "metadata": {},
   "source": [
    "**A -** Gere uma versão monocromática da imagem (você pode escolher um único canal de cor ou usar uma função de conversão de cor para escala de cinza integrada) e compute uma versão moderadamente suavizada dessa imagem usando um filtro Gaussiano. Novamente, escolha o $\\sigma$ do filtro com pelo menos alguns pixels de tamanho."
   ]
  },
  {
   "cell_type": "code",
   "execution_count": 115,
   "metadata": {},
   "outputs": [],
   "source": [
    "## INSIRA AQUI O CÓDIGO\n",
    "## EXIBA A IMAGEM SUAVIZADA"
   ]
  },
  {
   "cell_type": "markdown",
   "metadata": {},
   "source": [
    "**B -** Crie uma imagem de borda para a versão suavizada da imagema acima"
   ]
  },
  {
   "cell_type": "code",
   "execution_count": 116,
   "metadata": {},
   "outputs": [],
   "source": [
    "## INSIRA AQUI O CÓDIGO\n",
    "## EXIBA A IMAGEM DE BORDA"
   ]
  },
  {
   "cell_type": "markdown",
   "metadata": {},
   "source": [
    "**C -** Aplique seu algoritmo de Hough à imagem de borda para encontrar linhas ao longo das canetas e desenhe as linhas coloridas na imagem monocromática original (não na imagem de borda), não se preocupe com as linhas desenhadas se estendendo até o limite da imagem."
   ]
  },
  {
   "cell_type": "code",
   "execution_count": 117,
   "metadata": {},
   "outputs": [],
   "source": [
    "## INSIRA AQUI O CÓDIGO\n",
    "## EXIBA COMO IMAGEM O ACUMULADOR DE HOUGH\n",
    "## EXIBA A IMAGEM ORIGINAL COM AS LINHAS DESENHADAS"
   ]
  }
 ],
 "metadata": {
  "kernelspec": {
   "display_name": "Python 3",
   "language": "python",
   "name": "python3"
  },
  "language_info": {
   "codemirror_mode": {
    "name": "ipython",
    "version": 3
   },
   "file_extension": ".py",
   "mimetype": "text/x-python",
   "name": "python",
   "nbconvert_exporter": "python",
   "pygments_lexer": "ipython3",
   "version": "3.8.3"
  }
 },
 "nbformat": 4,
 "nbformat_minor": 4
}
